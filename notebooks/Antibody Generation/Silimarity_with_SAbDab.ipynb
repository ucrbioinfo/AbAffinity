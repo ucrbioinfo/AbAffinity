{
 "cells": [
  {
   "cell_type": "code",
   "execution_count": 12,
   "metadata": {},
   "outputs": [],
   "source": [
    "import pandas as pd   \n",
    "import matplotlib.pyplot as plt  \n",
    "import numpy as np    \n",
    "from Bio.SeqUtils import ProtParam \n",
    "from collections import defaultdict\n"
   ]
  },
  {
   "cell_type": "code",
   "execution_count": 2,
   "metadata": {},
   "outputs": [],
   "source": [
    "df = pd.read_csv('cdr_similarity_sabdab.csv')\n"
   ]
  },
  {
   "cell_type": "code",
   "execution_count": 3,
   "metadata": {},
   "outputs": [
    {
     "data": {
      "text/html": [
       "<div>\n",
       "<style scoped>\n",
       "    .dataframe tbody tr th:only-of-type {\n",
       "        vertical-align: middle;\n",
       "    }\n",
       "\n",
       "    .dataframe tbody tr th {\n",
       "        vertical-align: top;\n",
       "    }\n",
       "\n",
       "    .dataframe thead th {\n",
       "        text-align: right;\n",
       "    }\n",
       "</style>\n",
       "<table border=\"1\" class=\"dataframe\">\n",
       "  <thead>\n",
       "    <tr style=\"text-align: right;\">\n",
       "      <th></th>\n",
       "      <th>generated</th>\n",
       "      <th>sabdab</th>\n",
       "      <th>pdb_ID</th>\n",
       "      <th>distance</th>\n",
       "      <th>identity</th>\n",
       "    </tr>\n",
       "  </thead>\n",
       "  <tbody>\n",
       "    <tr>\n",
       "      <th>0</th>\n",
       "      <td>TLRSGINVGTYRIY</td>\n",
       "      <td>TLRSGINVGTYRIY</td>\n",
       "      <td>6w7s</td>\n",
       "      <td>0.0</td>\n",
       "      <td>1.000000</td>\n",
       "    </tr>\n",
       "    <tr>\n",
       "      <th>1</th>\n",
       "      <td>MIWHSSAWV</td>\n",
       "      <td>AIWHSSAWV</td>\n",
       "      <td>6kva</td>\n",
       "      <td>1.0</td>\n",
       "      <td>0.888889</td>\n",
       "    </tr>\n",
       "    <tr>\n",
       "      <th>2</th>\n",
       "      <td>GKNYRPA</td>\n",
       "      <td>GKNYRPS</td>\n",
       "      <td>6fg2</td>\n",
       "      <td>1.0</td>\n",
       "      <td>0.857143</td>\n",
       "    </tr>\n",
       "    <tr>\n",
       "      <th>3</th>\n",
       "      <td>GASQRES</td>\n",
       "      <td>GASTRES</td>\n",
       "      <td>7jln</td>\n",
       "      <td>1.0</td>\n",
       "      <td>0.857143</td>\n",
       "    </tr>\n",
       "    <tr>\n",
       "      <th>4</th>\n",
       "      <td>DATTRAS</td>\n",
       "      <td>DASTRAS</td>\n",
       "      <td>7s8h</td>\n",
       "      <td>1.0</td>\n",
       "      <td>0.857143</td>\n",
       "    </tr>\n",
       "    <tr>\n",
       "      <th>...</th>\n",
       "      <td>...</td>\n",
       "      <td>...</td>\n",
       "      <td>...</td>\n",
       "      <td>...</td>\n",
       "      <td>...</td>\n",
       "    </tr>\n",
       "    <tr>\n",
       "      <th>427</th>\n",
       "      <td>SIIIGGGHGHPLILSN</td>\n",
       "      <td>SGGGSN</td>\n",
       "      <td>7e9b</td>\n",
       "      <td>10.0</td>\n",
       "      <td>0.375000</td>\n",
       "    </tr>\n",
       "    <tr>\n",
       "      <th>428</th>\n",
       "      <td>FEAQAGNAPVQFIIPD</td>\n",
       "      <td>ERGTGAPDAFNI</td>\n",
       "      <td>7umm</td>\n",
       "      <td>10.0</td>\n",
       "      <td>0.375000</td>\n",
       "    </tr>\n",
       "    <tr>\n",
       "      <th>429</th>\n",
       "      <td>DAPVNNFGNSGQGLLV</td>\n",
       "      <td>DSVWYTGSYGLIY</td>\n",
       "      <td>8cin</td>\n",
       "      <td>10.0</td>\n",
       "      <td>0.375000</td>\n",
       "    </tr>\n",
       "    <tr>\n",
       "      <th>430</th>\n",
       "      <td>DAPVNNWGSSGQGLLV</td>\n",
       "      <td>DSVWYTGSYGLIY</td>\n",
       "      <td>8cin</td>\n",
       "      <td>10.0</td>\n",
       "      <td>0.375000</td>\n",
       "    </tr>\n",
       "    <tr>\n",
       "      <th>431</th>\n",
       "      <td>DAPVNNFGNAGQGLLV</td>\n",
       "      <td>DPFGWAAHGVGLDY</td>\n",
       "      <td>8caf</td>\n",
       "      <td>10.0</td>\n",
       "      <td>0.375000</td>\n",
       "    </tr>\n",
       "  </tbody>\n",
       "</table>\n",
       "<p>432 rows × 5 columns</p>\n",
       "</div>"
      ],
      "text/plain": [
       "            generated          sabdab pdb_ID  distance  identity\n",
       "0      TLRSGINVGTYRIY  TLRSGINVGTYRIY   6w7s       0.0  1.000000\n",
       "1           MIWHSSAWV       AIWHSSAWV   6kva       1.0  0.888889\n",
       "2             GKNYRPA         GKNYRPS   6fg2       1.0  0.857143\n",
       "3             GASQRES         GASTRES   7jln       1.0  0.857143\n",
       "4             DATTRAS         DASTRAS   7s8h       1.0  0.857143\n",
       "..                ...             ...    ...       ...       ...\n",
       "427  SIIIGGGHGHPLILSN          SGGGSN   7e9b      10.0  0.375000\n",
       "428  FEAQAGNAPVQFIIPD    ERGTGAPDAFNI   7umm      10.0  0.375000\n",
       "429  DAPVNNFGNSGQGLLV   DSVWYTGSYGLIY   8cin      10.0  0.375000\n",
       "430  DAPVNNWGSSGQGLLV   DSVWYTGSYGLIY   8cin      10.0  0.375000\n",
       "431  DAPVNNFGNAGQGLLV  DPFGWAAHGVGLDY   8caf      10.0  0.375000\n",
       "\n",
       "[432 rows x 5 columns]"
      ]
     },
     "execution_count": 3,
     "metadata": {},
     "output_type": "execute_result"
    }
   ],
   "source": [
    "df"
   ]
  },
  {
   "cell_type": "code",
   "execution_count": 10,
   "metadata": {},
   "outputs": [],
   "source": [
    "def calculate_aa_distribution(sequence):\n",
    "    \"\"\"\n",
    "    Calculate the amino acid distribution of a given protein sequence.\n",
    "    Returns a dictionary where keys are amino acids and values are their frequencies.\n",
    "    \"\"\"\n",
    "    aa_count = defaultdict(int)\n",
    "    total_aa = 0\n",
    "    for aa in sequence:\n",
    "        aa_count[aa] += 1\n",
    "        total_aa += 1\n",
    "    aa_distribution = {aa: count / total_aa for aa, count in aa_count.items()}\n",
    "    return aa_distribution"
   ]
  },
  {
   "cell_type": "code",
   "execution_count": 23,
   "metadata": {},
   "outputs": [],
   "source": [
    "# Apply the function to each row of the 'sabdab' column and calculate the average distribution\n",
    "avg_aa_distribution_col1 = defaultdict(int)\n",
    "total_rows = len(df['sabdab'])\n",
    "\n",
    "for index, row in df.iterrows():\n",
    "    row_aa_distribution = calculate_aa_distribution(row['sabdab'])\n",
    "    for aa, freq in row_aa_distribution.items():\n",
    "        avg_aa_distribution_col1[aa] += freq / total_rows\n",
    "\n"
   ]
  },
  {
   "cell_type": "code",
   "execution_count": 29,
   "metadata": {},
   "outputs": [],
   "source": [
    "# Apply the function to each row of the 'sabdab' column and calculate the average distribution\n",
    "avg_aa_distribution_col2 = defaultdict(int)\n",
    "total_rows = len(df['generated'])\n",
    "\n",
    "for index, row in df.iterrows():\n",
    "    row_aa_distribution = calculate_aa_distribution(row['generated'])\n",
    "    for aa, freq in row_aa_distribution.items():\n",
    "        avg_aa_distribution_col2[aa] += freq / total_rows\n",
    "\n"
   ]
  },
  {
   "cell_type": "code",
   "execution_count": 46,
   "metadata": {},
   "outputs": [
    {
     "data": {
      "image/png": "[encoded data removed]",
      "text/plain": [
       "<Figure size 1000x600 with 1 Axes>"
      ]
     },
     "metadata": {},
     "output_type": "display_data"
    }
   ],
   "source": [
    "bar_width = 0.35\n",
    "\n",
    "# Get the amino acids and their frequencies as lists\n",
    "aa1 = list(avg_aa_distribution_col1.keys())\n",
    "freq1 = list(avg_aa_distribution_col1.values())\n",
    "aa2 = list(avg_aa_distribution_col2.keys())\n",
    "freq2 = list(avg_aa_distribution_col2.values())\n",
    "\n",
    "# Calculate the x positions for the bars\n",
    "x_pos1 = np.arange(len(aa1))\n",
    "x_pos2 = np.arange(len(aa2))\n",
    "\n",
    "# Plot the distributions side by side\n",
    "plt.figure(figsize=(10, 6))\n",
    "plt.bar(x_pos1 - bar_width/2, freq1, bar_width, alpha=0.75, label='known CDRs')\n",
    "plt.bar(x_pos2 + bar_width/2, freq2, bar_width, alpha=0.75, label='generated CDRs')\n",
    "plt.title('Distribution of Amino Acids in CDRs', fontsize=16)\n",
    "plt.xlabel('Amino Acid', fontsize=14)\n",
    "plt.ylabel('Density', fontsize=14)\n",
    "plt.xticks(np.arange(len(aa1)), aa1, fontsize=16)\n",
    "plt.legend(fontsize=16)\n",
    "plt.tight_layout()\n",
    "plt.savefig('distribution_cdrs.png')\n",
    "plt.show()\n"
   ]
  },
  {
   "cell_type": "code",
   "execution_count": null,
   "metadata": {},
   "outputs": [],
   "source": []
  }
 ],
 "metadata": {
  "kernelspec": {
   "display_name": "base",
   "language": "python",
   "name": "python3"
  },
  "language_info": {
   "codemirror_mode": {
    "name": "ipython",
    "version": 3
   },
   "file_extension": ".py",
   "mimetype": "text/x-python",
   "name": "python",
   "nbconvert_exporter": "python",
   "pygments_lexer": "ipython3",
   "version": "3.11.5"
  }
 },
 "nbformat": 4,
 "nbformat_minor": 2
}
