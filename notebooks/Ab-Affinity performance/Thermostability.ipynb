{
 "cells": [
  {
   "cell_type": "code",
   "execution_count": 1,
   "metadata": {},
   "outputs": [
    {
     "name": "stderr",
     "output_type": "stream",
     "text": [
      "/home/fashr003/anaconda3/envs/fbagpuenv/lib/python3.10/site-packages/scipy/__init__.py:146: UserWarning: A NumPy version >=1.17.3 and <1.25.0 is required for this version of SciPy (detected version 1.26.3\n",
      "  warnings.warn(f\"A NumPy version >={np_minversion} and <{np_maxversion}\"\n"
     ]
    }
   ],
   "source": [
    "import pandas as pd \n",
    "import numpy as np \n",
    "import matplotlib.pyplot as plt \n",
    "import seaborn as sns \n",
    "\n",
    "from model.create_dataset import esm_alphabet, convert  \n",
    "from model.affinity_pred_model import AffinityPredictor\n",
    "from model.utilities import get_model \n",
    "import random \n",
    "import torch \n"
   ]
  },
  {
   "cell_type": "markdown",
   "metadata": {},
   "source": [
    "## Load Antibody seqeunce and thermostability data "
   ]
  },
  {
   "cell_type": "code",
   "execution_count": 2,
   "metadata": {},
   "outputs": [],
   "source": [
    "df = pd.read_csv('data/thermostability_dataset.csv')"
   ]
  },
  {
   "cell_type": "code",
   "execution_count": 3,
   "metadata": {},
   "outputs": [
    {
     "data": {
      "text/html": [
       "<div>\n",
       "<style scoped>\n",
       "    .dataframe tbody tr th:only-of-type {\n",
       "        vertical-align: middle;\n",
       "    }\n",
       "\n",
       "    .dataframe tbody tr th {\n",
       "        vertical-align: top;\n",
       "    }\n",
       "\n",
       "    .dataframe thead th {\n",
       "        text-align: right;\n",
       "    }\n",
       "</style>\n",
       "<table border=\"1\" class=\"dataframe\">\n",
       "  <thead>\n",
       "    <tr style=\"text-align: right;\">\n",
       "      <th></th>\n",
       "      <th>Study</th>\n",
       "      <th>heavy</th>\n",
       "      <th>light</th>\n",
       "      <th>fitness</th>\n",
       "    </tr>\n",
       "  </thead>\n",
       "  <tbody>\n",
       "    <tr>\n",
       "      <th>0</th>\n",
       "      <td>Hie_2022_C143</td>\n",
       "      <td>EVQLVESGGGLVQPGGSLRLSCAASGFSVSTKYMTWVRQAPGKGLE...</td>\n",
       "      <td>QSALTQPASVSGSPGQSITISCTGTSNDVGSYTLVSWYQQYPGKAP...</td>\n",
       "      <td>68.383333</td>\n",
       "    </tr>\n",
       "    <tr>\n",
       "      <th>1</th>\n",
       "      <td>Hie_2022_C143</td>\n",
       "      <td>EVQLVESGGGLVQPGGSLRLSCAASGFSVSTKYMTWVRQAPGKGLE...</td>\n",
       "      <td>QSALTQPASVSGSPGQSITISCTGTSNDVGSYNLVSWYQQYPGKAP...</td>\n",
       "      <td>70.576667</td>\n",
       "    </tr>\n",
       "    <tr>\n",
       "      <th>2</th>\n",
       "      <td>Hie_2022_S309</td>\n",
       "      <td>QVQLVQSGAEVKKPGASVKVSCKASGYPFTSYGISWVRQAPGQGLE...</td>\n",
       "      <td>EIVLTQSPGTLSLSPGERATLSCRASQTVSSTSLAWYQQKPGQAPR...</td>\n",
       "      <td>72.490000</td>\n",
       "    </tr>\n",
       "    <tr>\n",
       "      <th>3</th>\n",
       "      <td>Hie_2022_S309</td>\n",
       "      <td>QVQLVQSGAEVKKPGASVKVSCKASGYPFTSYGISWVRQAPGQGLE...</td>\n",
       "      <td>EIVLTQSPGTLSLSPGERATLSCRASQTVSSTSLAWYQQKPGQAPR...</td>\n",
       "      <td>74.883333</td>\n",
       "    </tr>\n",
       "    <tr>\n",
       "      <th>4</th>\n",
       "      <td>Hie_2022_S309</td>\n",
       "      <td>QVQLVQSGAEVKKPGASVKVSCKASGYPFTSYGISWVRQAPGQGLE...</td>\n",
       "      <td>EIVLTQSPGTLSLSPGERATLSCRASQTVSSTSLAWYQQKPGQAPR...</td>\n",
       "      <td>74.736667</td>\n",
       "    </tr>\n",
       "    <tr>\n",
       "      <th>5</th>\n",
       "      <td>Hie_2022_S309</td>\n",
       "      <td>QVQLVQSGAEVKKPGASVKVSCKASGYPFTSYGISWVRQAPGQGLE...</td>\n",
       "      <td>EIVLTQSPGTLSLSPGERATLSCRASQSVSSNSLAWYQQKPGQAPR...</td>\n",
       "      <td>73.233333</td>\n",
       "    </tr>\n",
       "    <tr>\n",
       "      <th>6</th>\n",
       "      <td>Hie_2022_S309</td>\n",
       "      <td>QVQLVQSGAEVKKPGASVKVSCKASGYPFTSYGISWVRQAPGQGLE...</td>\n",
       "      <td>EIVLTQSPGTLSLSPGERATLSCRASQSVSSTSLAWYQQKPGQAPR...</td>\n",
       "      <td>72.816667</td>\n",
       "    </tr>\n",
       "    <tr>\n",
       "      <th>7</th>\n",
       "      <td>Hie_2022_S309</td>\n",
       "      <td>QVQLVQSGAEVKKPGASVKVSCKASGYPFTSYGISWVRQAPGQGLE...</td>\n",
       "      <td>EIVLTQSPGTLSLSPGERATLSCRASQSVSSTSLAWYQQKPGQAPR...</td>\n",
       "      <td>72.280000</td>\n",
       "    </tr>\n",
       "    <tr>\n",
       "      <th>8</th>\n",
       "      <td>Hie_2022_S309</td>\n",
       "      <td>QVQLVQSGAEVKKPGASVKVSCKASGYPFTSYGISWVRQAPGQGLE...</td>\n",
       "      <td>EIVLTQSPGTLSLSPGERATLSCRASQSVSSTSLAWYQQKPGQAPR...</td>\n",
       "      <td>72.726667</td>\n",
       "    </tr>\n",
       "    <tr>\n",
       "      <th>9</th>\n",
       "      <td>Hie_2022_S309</td>\n",
       "      <td>QVQLVQSGAEVKKPGASVKVSCKASGYPFTSYGISWVRQAPGQGLE...</td>\n",
       "      <td>EIVLTQSPGTLSLSPGERATLSCRASQSVSSTSLAWYQQKPGQAPR...</td>\n",
       "      <td>74.943333</td>\n",
       "    </tr>\n",
       "    <tr>\n",
       "      <th>10</th>\n",
       "      <td>Hie_2022_S309</td>\n",
       "      <td>QVQLVQSGAEVKKPGASVKVSCKASGYPFTSYGISWVRQAPGQGLE...</td>\n",
       "      <td>EIVLTQSPGTLSLSPGERATLSCRASQSVSSNSLAWYQQKPGQAPR...</td>\n",
       "      <td>75.570000</td>\n",
       "    </tr>\n",
       "    <tr>\n",
       "      <th>11</th>\n",
       "      <td>Hie_2022_S309</td>\n",
       "      <td>QVQLVQSGAEVKKPGASVKVSCKASGYPFTSYGISWVRQAPGQGLE...</td>\n",
       "      <td>EIVLTQSPGTLSLSPGERATLSCRASQSVSSNSLAWYQQKPGQAPR...</td>\n",
       "      <td>75.636667</td>\n",
       "    </tr>\n",
       "    <tr>\n",
       "      <th>12</th>\n",
       "      <td>Hie_2022_REGN10987</td>\n",
       "      <td>QVQLVESGGGVVQPGRSLRLSCAASGFTFSNYAMYWVRQAPGKGLE...</td>\n",
       "      <td>QSALTQPASVSGSPGQSITISCTGTSSDVGGYNYVSWYQQHPGKAP...</td>\n",
       "      <td>77.540000</td>\n",
       "    </tr>\n",
       "    <tr>\n",
       "      <th>13</th>\n",
       "      <td>Hie_2022_REGN10987</td>\n",
       "      <td>QVQLVESGGGVVQPGGSLRLSCAASGFTFSNYAMYWVRQAPGKGLE...</td>\n",
       "      <td>QSALTQPASVSGSPGQSITISCTGTSSDVGGYNYVSWYQQHPGKAP...</td>\n",
       "      <td>74.826667</td>\n",
       "    </tr>\n",
       "    <tr>\n",
       "      <th>14</th>\n",
       "      <td>Hie_2022_REGN10987</td>\n",
       "      <td>QVQLVESGGGVVQPGGSLRLSCAASGFTFSNYAMYWVRQAPGKGLE...</td>\n",
       "      <td>QSALTQPASVSGSPGQSITISCTGTSSDVGGYNYVSWYQQHPGKAP...</td>\n",
       "      <td>76.180000</td>\n",
       "    </tr>\n",
       "    <tr>\n",
       "      <th>15</th>\n",
       "      <td>Hie_2022_REGN10987</td>\n",
       "      <td>QVQLVESGGGVVQPGRSLRLSCAASGFTFSNYAMYWVRQAPGKGLE...</td>\n",
       "      <td>QSALTQPASVSGSPGQSITISCTGTSSDVGGYNYVSWYQQHPGKAP...</td>\n",
       "      <td>80.173333</td>\n",
       "    </tr>\n",
       "    <tr>\n",
       "      <th>16</th>\n",
       "      <td>Hie_2022_REGN10987</td>\n",
       "      <td>QVQLVESGGGVVQPGGSLRLSCAASGFTFSNYAMYWVRQAPGKGLE...</td>\n",
       "      <td>QSALTQPASVSGSPGQSITISCTGTSSDVGGYNYVSWYQQHPGKAP...</td>\n",
       "      <td>78.420000</td>\n",
       "    </tr>\n",
       "    <tr>\n",
       "      <th>17</th>\n",
       "      <td>Hie_2022_REGN10987</td>\n",
       "      <td>QVQLVESGGGVVQPGGSLRLSCAASGFTFSNYAMYWVRQAPGKGLE...</td>\n",
       "      <td>QSALTQPASVSGSPGQSITISCTGTSSDVGGYNYVSWYQQHPGKAP...</td>\n",
       "      <td>78.623333</td>\n",
       "    </tr>\n",
       "    <tr>\n",
       "      <th>18</th>\n",
       "      <td>Hie_2022_REGN10987</td>\n",
       "      <td>QVQLVESGGGVVQPGGSLRLSCAASGFTFSNYAMYWVRQAPGKGLE...</td>\n",
       "      <td>QSALTQPASVSGSPGQSITISCTGTSSDVGGYNYVSWYQQHPGKAP...</td>\n",
       "      <td>78.686667</td>\n",
       "    </tr>\n",
       "    <tr>\n",
       "      <th>19</th>\n",
       "      <td>Hie_2022_REGN10987</td>\n",
       "      <td>QVQLVESGGGVVQPGGSLRLSCAASGFTFSNYAMYWVRQAPGKGLE...</td>\n",
       "      <td>QSALTQPASVSGSPGQSITISCTGTSSDVGGYNYVSWYQQHPGKAP...</td>\n",
       "      <td>78.696667</td>\n",
       "    </tr>\n",
       "    <tr>\n",
       "      <th>20</th>\n",
       "      <td>Rosace_2023_CR3022</td>\n",
       "      <td>EVQLVQSGTEVKKPGESLKISCKGSGYGFITYWIGWVRQMPGKGLE...</td>\n",
       "      <td>DIVMTQSPDSLAVSLGERATINCKSSQSVLYSSINKNYLAWYQQKP...</td>\n",
       "      <td>65.350000</td>\n",
       "    </tr>\n",
       "    <tr>\n",
       "      <th>21</th>\n",
       "      <td>Rosace_2023_CR3022</td>\n",
       "      <td>EVQLVQSGTEVKKPGESLKISCKGSGYGFITYWIGWVRQPPGKGLE...</td>\n",
       "      <td>DIVMTQSPDSLAVSLGERATINCKSSQSVLYSSINKNYLAWYQQKP...</td>\n",
       "      <td>66.800000</td>\n",
       "    </tr>\n",
       "    <tr>\n",
       "      <th>22</th>\n",
       "      <td>Rosace_2023_CR3022</td>\n",
       "      <td>EVQLVQSGTEVKKPGESLKISCKGSGYGFITYWIGWVRQPPGKGLE...</td>\n",
       "      <td>DIVMTQSPDSLAVSLGERATINCKSSQSVLYSSINKNYLAWYQQKP...</td>\n",
       "      <td>67.000000</td>\n",
       "    </tr>\n",
       "    <tr>\n",
       "      <th>23</th>\n",
       "      <td>Rosace_2023_CR3022</td>\n",
       "      <td>EVQLVQSGPEVKKPGESLKISCKGSGYGFITYWIGWVRQPPGKGLE...</td>\n",
       "      <td>DIVMTQSPDSLAVSLGERATINCKSSQSVLYSSINKNYLAWYQQKP...</td>\n",
       "      <td>72.250000</td>\n",
       "    </tr>\n",
       "    <tr>\n",
       "      <th>24</th>\n",
       "      <td>Rosace_2023_CR3022</td>\n",
       "      <td>EVQLVQSGPEVKKPGESLKISCKGSGYGFITYWIGWVRQPPGKGLE...</td>\n",
       "      <td>DIVMTQSPDSLAVSLGERATINCKSSQSVLYSSINKNYLAWYQQKP...</td>\n",
       "      <td>69.100000</td>\n",
       "    </tr>\n",
       "    <tr>\n",
       "      <th>25</th>\n",
       "      <td>Rosace_2023_CR3022</td>\n",
       "      <td>EVQLVQSGPEVKKPGESLKISCKGSGYGFITYWIGWVRQPPGKGLE...</td>\n",
       "      <td>DIVMTQSPDSLAVSLGERATINCKSSQSVLYSSINKNYLAWYQQKP...</td>\n",
       "      <td>72.050000</td>\n",
       "    </tr>\n",
       "  </tbody>\n",
       "</table>\n",
       "</div>"
      ],
      "text/plain": [
       "                 Study                                              heavy  \\\n",
       "0        Hie_2022_C143  EVQLVESGGGLVQPGGSLRLSCAASGFSVSTKYMTWVRQAPGKGLE...   \n",
       "1        Hie_2022_C143  EVQLVESGGGLVQPGGSLRLSCAASGFSVSTKYMTWVRQAPGKGLE...   \n",
       "2        Hie_2022_S309  QVQLVQSGAEVKKPGASVKVSCKASGYPFTSYGISWVRQAPGQGLE...   \n",
       "3        Hie_2022_S309  QVQLVQSGAEVKKPGASVKVSCKASGYPFTSYGISWVRQAPGQGLE...   \n",
       "4        Hie_2022_S309  QVQLVQSGAEVKKPGASVKVSCKASGYPFTSYGISWVRQAPGQGLE...   \n",
       "5        Hie_2022_S309  QVQLVQSGAEVKKPGASVKVSCKASGYPFTSYGISWVRQAPGQGLE...   \n",
       "6        Hie_2022_S309  QVQLVQSGAEVKKPGASVKVSCKASGYPFTSYGISWVRQAPGQGLE...   \n",
       "7        Hie_2022_S309  QVQLVQSGAEVKKPGASVKVSCKASGYPFTSYGISWVRQAPGQGLE...   \n",
       "8        Hie_2022_S309  QVQLVQSGAEVKKPGASVKVSCKASGYPFTSYGISWVRQAPGQGLE...   \n",
       "9        Hie_2022_S309  QVQLVQSGAEVKKPGASVKVSCKASGYPFTSYGISWVRQAPGQGLE...   \n",
       "10       Hie_2022_S309  QVQLVQSGAEVKKPGASVKVSCKASGYPFTSYGISWVRQAPGQGLE...   \n",
       "11       Hie_2022_S309  QVQLVQSGAEVKKPGASVKVSCKASGYPFTSYGISWVRQAPGQGLE...   \n",
       "12  Hie_2022_REGN10987  QVQLVESGGGVVQPGRSLRLSCAASGFTFSNYAMYWVRQAPGKGLE...   \n",
       "13  Hie_2022_REGN10987  QVQLVESGGGVVQPGGSLRLSCAASGFTFSNYAMYWVRQAPGKGLE...   \n",
       "14  Hie_2022_REGN10987  QVQLVESGGGVVQPGGSLRLSCAASGFTFSNYAMYWVRQAPGKGLE...   \n",
       "15  Hie_2022_REGN10987  QVQLVESGGGVVQPGRSLRLSCAASGFTFSNYAMYWVRQAPGKGLE...   \n",
       "16  Hie_2022_REGN10987  QVQLVESGGGVVQPGGSLRLSCAASGFTFSNYAMYWVRQAPGKGLE...   \n",
       "17  Hie_2022_REGN10987  QVQLVESGGGVVQPGGSLRLSCAASGFTFSNYAMYWVRQAPGKGLE...   \n",
       "18  Hie_2022_REGN10987  QVQLVESGGGVVQPGGSLRLSCAASGFTFSNYAMYWVRQAPGKGLE...   \n",
       "19  Hie_2022_REGN10987  QVQLVESGGGVVQPGGSLRLSCAASGFTFSNYAMYWVRQAPGKGLE...   \n",
       "20  Rosace_2023_CR3022  EVQLVQSGTEVKKPGESLKISCKGSGYGFITYWIGWVRQMPGKGLE...   \n",
       "21  Rosace_2023_CR3022  EVQLVQSGTEVKKPGESLKISCKGSGYGFITYWIGWVRQPPGKGLE...   \n",
       "22  Rosace_2023_CR3022  EVQLVQSGTEVKKPGESLKISCKGSGYGFITYWIGWVRQPPGKGLE...   \n",
       "23  Rosace_2023_CR3022  EVQLVQSGPEVKKPGESLKISCKGSGYGFITYWIGWVRQPPGKGLE...   \n",
       "24  Rosace_2023_CR3022  EVQLVQSGPEVKKPGESLKISCKGSGYGFITYWIGWVRQPPGKGLE...   \n",
       "25  Rosace_2023_CR3022  EVQLVQSGPEVKKPGESLKISCKGSGYGFITYWIGWVRQPPGKGLE...   \n",
       "\n",
       "                                                light    fitness  \n",
       "0   QSALTQPASVSGSPGQSITISCTGTSNDVGSYTLVSWYQQYPGKAP...  68.383333  \n",
       "1   QSALTQPASVSGSPGQSITISCTGTSNDVGSYNLVSWYQQYPGKAP...  70.576667  \n",
       "2   EIVLTQSPGTLSLSPGERATLSCRASQTVSSTSLAWYQQKPGQAPR...  72.490000  \n",
       "3   EIVLTQSPGTLSLSPGERATLSCRASQTVSSTSLAWYQQKPGQAPR...  74.883333  \n",
       "4   EIVLTQSPGTLSLSPGERATLSCRASQTVSSTSLAWYQQKPGQAPR...  74.736667  \n",
       "5   EIVLTQSPGTLSLSPGERATLSCRASQSVSSNSLAWYQQKPGQAPR...  73.233333  \n",
       "6   EIVLTQSPGTLSLSPGERATLSCRASQSVSSTSLAWYQQKPGQAPR...  72.816667  \n",
       "7   EIVLTQSPGTLSLSPGERATLSCRASQSVSSTSLAWYQQKPGQAPR...  72.280000  \n",
       "8   EIVLTQSPGTLSLSPGERATLSCRASQSVSSTSLAWYQQKPGQAPR...  72.726667  \n",
       "9   EIVLTQSPGTLSLSPGERATLSCRASQSVSSTSLAWYQQKPGQAPR...  74.943333  \n",
       "10  EIVLTQSPGTLSLSPGERATLSCRASQSVSSNSLAWYQQKPGQAPR...  75.570000  \n",
       "11  EIVLTQSPGTLSLSPGERATLSCRASQSVSSNSLAWYQQKPGQAPR...  75.636667  \n",
       "12  QSALTQPASVSGSPGQSITISCTGTSSDVGGYNYVSWYQQHPGKAP...  77.540000  \n",
       "13  QSALTQPASVSGSPGQSITISCTGTSSDVGGYNYVSWYQQHPGKAP...  74.826667  \n",
       "14  QSALTQPASVSGSPGQSITISCTGTSSDVGGYNYVSWYQQHPGKAP...  76.180000  \n",
       "15  QSALTQPASVSGSPGQSITISCTGTSSDVGGYNYVSWYQQHPGKAP...  80.173333  \n",
       "16  QSALTQPASVSGSPGQSITISCTGTSSDVGGYNYVSWYQQHPGKAP...  78.420000  \n",
       "17  QSALTQPASVSGSPGQSITISCTGTSSDVGGYNYVSWYQQHPGKAP...  78.623333  \n",
       "18  QSALTQPASVSGSPGQSITISCTGTSSDVGGYNYVSWYQQHPGKAP...  78.686667  \n",
       "19  QSALTQPASVSGSPGQSITISCTGTSSDVGGYNYVSWYQQHPGKAP...  78.696667  \n",
       "20  DIVMTQSPDSLAVSLGERATINCKSSQSVLYSSINKNYLAWYQQKP...  65.350000  \n",
       "21  DIVMTQSPDSLAVSLGERATINCKSSQSVLYSSINKNYLAWYQQKP...  66.800000  \n",
       "22  DIVMTQSPDSLAVSLGERATINCKSSQSVLYSSINKNYLAWYQQKP...  67.000000  \n",
       "23  DIVMTQSPDSLAVSLGERATINCKSSQSVLYSSINKNYLAWYQQKP...  72.250000  \n",
       "24  DIVMTQSPDSLAVSLGERATINCKSSQSVLYSSINKNYLAWYQQKP...  69.100000  \n",
       "25  DIVMTQSPDSLAVSLGERATINCKSSQSVLYSSINKNYLAWYQQKP...  72.050000  "
      ]
     },
     "execution_count": 3,
     "metadata": {},
     "output_type": "execute_result"
    }
   ],
   "source": [
    "df"
   ]
  },
  {
   "cell_type": "code",
   "execution_count": 4,
   "metadata": {},
   "outputs": [],
   "source": [
    "sequences = df['heavy']+'GGGGSGGGGSGGGGS'+df['light']"
   ]
  },
  {
   "cell_type": "markdown",
   "metadata": {},
   "source": [
    "## Get Ab-Affinity embeddings "
   ]
  },
  {
   "cell_type": "code",
   "execution_count": 6,
   "metadata": {},
   "outputs": [],
   "source": [
    "device = 'cuda' if torch.cuda.is_available() else 'cpu'\n",
    "model = get_model()\n",
    "model = model.eval() "
   ]
  },
  {
   "cell_type": "code",
   "execution_count": 7,
   "metadata": {},
   "outputs": [
    {
     "name": "stdout",
     "output_type": "stream",
     "text": [
      "1, 2, 3, 4, 5, 6, 7, 8, 9, 10, 11, 12, 13, 14, 15, 16, 17, 18, 19, 20, 21, 22, 23, 24, 25, 26, (26, 1280)\n"
     ]
    }
   ],
   "source": [
    "inputs = sequences \n",
    "outputs_list = []\n",
    "with torch.no_grad():\n",
    "    for i in range(0, len(inputs)):\n",
    "        seq = torch.unsqueeze(torch.tensor(convert(inputs[i])),0).to(device) \n",
    "        outputs_batch =  model.encoder(seq, repr_layers=[33], return_contacts=True) \n",
    "        outputs_list.append(torch.mean(outputs_batch['representations'][33], dim=1).to('cpu')) \n",
    "        print(i+1, end = \", \", flush=True) \n",
    "        del seq, outputs_batch  \n",
    "        torch.cuda.empty_cache() \n",
    "outputs_list1 = torch.cat(outputs_list).numpy() \n",
    "print(outputs_list1.shape)"
   ]
  },
  {
   "cell_type": "markdown",
   "metadata": {},
   "source": [
    "## Get Esm2 embeddings"
   ]
  },
  {
   "cell_type": "code",
   "execution_count": 8,
   "metadata": {},
   "outputs": [],
   "source": [
    "import esm \n",
    "model, _ = esm.pretrained.esm2_t33_650M_UR50D() \n",
    "model.to('cuda')\n",
    "model = model.eval() "
   ]
  },
  {
   "cell_type": "code",
   "execution_count": 9,
   "metadata": {},
   "outputs": [
    {
     "name": "stdout",
     "output_type": "stream",
     "text": [
      "(26, 1280)\n"
     ]
    }
   ],
   "source": [
    "inputs = sequences \n",
    "outputs_list = []\n",
    "with torch.no_grad():\n",
    "    for i in range(0, len(inputs)):\n",
    "        seq = torch.unsqueeze(torch.tensor(convert(inputs[i])),0).to(device) \n",
    "        outputs_batch =  model(seq, repr_layers=[33], return_contacts=False) \n",
    "        outputs_list.append(torch.mean(outputs_batch['representations'][33], dim=1).to('cpu')) \n",
    "        #print(i+1, end = \", \", flush=True) \n",
    "        del seq, outputs_batch  \n",
    "        torch.cuda.empty_cache() \n",
    "outputs_list2 = torch.cat(outputs_list).numpy() \n",
    "print(outputs_list2.shape)\n"
   ]
  },
  {
   "cell_type": "markdown",
   "metadata": {},
   "source": [
    "## 2D TSNE reduction of embeddings and labelled by thermostability "
   ]
  },
  {
   "cell_type": "code",
   "execution_count": 59,
   "metadata": {},
   "outputs": [
    {
     "name": "stderr",
     "output_type": "stream",
     "text": [
      "/tmp/ipykernel_1278141/1304770129.py:31: UserWarning: This figure includes Axes that are not compatible with tight_layout, so results might be incorrect.\n",
      "  plt.tight_layout()\n"
     ]
    },
    {
     "data": {
      "image/png": "[encoded data removed]",
      "text/plain": [
       "<Figure size 1200x600 with 3 Axes>"
      ]
     },
     "metadata": {},
     "output_type": "display_data"
    }
   ],
   "source": [
    "all_emb = np.concatenate((outputs_list1, outputs_list2), axis=0) \n",
    "from sklearn.manifold import TSNE \n",
    "tsne_model = TSNE(n_components=2, perplexity=5, random_state=123) \n",
    "tsne_result = tsne_model.fit_transform(all_emb) \n",
    "\n",
    "\n",
    "fig, axes = plt.subplots(1, 2, figsize=(12, 6))\n",
    "\n",
    "# Plot data on the first subplot\n",
    "axes[1].scatter(tsne_result[:26, 0], tsne_result[:26, 1], s=20, c=df['fitness'].tolist(), label=\"Thermostability\", cmap='coolwarm')\n",
    "axes[1].set_title('Ab-Affinity', fontsize=22)\n",
    "axes[1].set_xlabel('tsne 1')\n",
    "axes[1].set_ylabel('tsne 2')\n",
    "\n",
    "# Plot data on the second subplot\n",
    "sc2 = axes[0].scatter(tsne_result[26:, 0], tsne_result[26:, 1], s=20, c=df['fitness'].tolist(), label=\"Thermostability\", cmap='coolwarm') \n",
    "axes[0].set_title('ESM-2', fontsize=22)\n",
    "axes[0].set_xlabel('tsne 1')\n",
    "axes[0].set_ylabel('tsne 2')\n",
    "\n",
    "# Adjust layout\n",
    "cax = fig.add_axes([1.01, 0.1, 0.015, 0.77])  # [left, bottom, width, height]\n",
    "\n",
    "# Add colorbar to the additional axis\n",
    "cbar = fig.colorbar(sc2, cax=cax).set_label(label=\"Thermostability\", size=18)\n",
    "\n",
    "# Adjust layout\n",
    "#plt.subplots_adjust(top=0.2)\n",
    "\n",
    "#plt.suptitle(\"Antibody Embeddings and Thermostability\", fontsize=18)\n",
    "plt.tight_layout() \n",
    "plt.savefig('plots/thermostability_comparison.png')\n",
    "plt.show()"
   ]
  },
  {
   "cell_type": "code",
   "execution_count": null,
   "metadata": {},
   "outputs": [],
   "source": []
  }
 ],
 "metadata": {
  "kernelspec": {
   "display_name": "fbagpuenv",
   "language": "python",
   "name": "python3"
  },
  "language_info": {
   "codemirror_mode": {
    "name": "ipython",
    "version": 3
   },
   "file_extension": ".py",
   "mimetype": "text/x-python",
   "name": "python",
   "nbconvert_exporter": "python",
   "pygments_lexer": "ipython3",
   "version": "3.10.12"
  }
 },
 "nbformat": 4,
 "nbformat_minor": 2
}
